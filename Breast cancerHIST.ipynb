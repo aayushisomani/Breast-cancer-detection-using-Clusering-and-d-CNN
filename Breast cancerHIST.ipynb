{
 "cells": [
  {
   "cell_type": "code",
   "execution_count": null,
   "outputs": [],
   "source": [
    "#median filter\n",
    "import numpy as np\n",
    "import cv2\n",
    "from matplotlib import pyplot as plt\n",
    "from PIL import Image, ImageFilter\n",
    "%matplotlib inline\n",
    "image = cv2.imread(r'/Users/Aayushi/BreastCancer/breast-cancer-classification/datasets/idc/training/1/8863_idx5_x1001_y901_class1.png') # reads the image\n",
    "image = cv2.cvtColor(image, cv2.COLOR_BGR2HSV) # convert to HSV\n",
    "figure_size = 9 # the dimension of the x and y axis of the kernal.\n",
    "new_image = cv2.blur(image,(figure_size, figure_size))\n",
    "\n",
    "\n",
    "################\n",
    "\n",
    "figure_size = 9\n",
    "image_median = cv2.medianBlur(image, figure_size)\n",
    "plt.figure(figsize=(11,6))\n",
    "plt.subplot(121), plt.imshow(cv2.cvtColor(image, cv2.COLOR_HSV2RGB)),plt.title('Original')\n",
    "plt.xticks([]), plt.yticks([])\n",
    "plt.subplot(122), plt.imshow(cv2.cvtColor(image_median, cv2.COLOR_HSV2RGB)),plt.title('Median Filter')\n",
    "plt.xticks([]), plt.yticks([])\n",
    "plt.show()\n"
   ],
   "metadata": {
    "collapsed": false,
    "pycharm": {
     "name": "#%%\n"
    }
   }
  }
 ],
 "metadata": {
  "kernelspec": {
   "display_name": "Python 3",
   "language": "python",
   "name": "python3"
  },
  "language_info": {
   "codemirror_mode": {
    "name": "ipython",
    "version": 2
   },
   "file_extension": ".py",
   "mimetype": "text/x-python",
   "name": "python",
   "nbconvert_exporter": "python",
   "pygments_lexer": "ipython2",
   "version": "2.7.6"
  },
  "pycharm": {
   "stem_cell": {
    "cell_type": "raw",
    "source": [],
    "metadata": {
     "collapsed": false
    }
   }
  }
 },
 "nbformat": 4,
 "nbformat_minor": 0
}